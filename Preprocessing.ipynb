{
 "cells": [
  {
   "cell_type": "code",
   "execution_count": 2,
   "metadata": {},
   "outputs": [],
   "source": [
    "import pandas as pd\n",
    "import numpy as np\n",
    "from datetime import datetime"
   ]
  },
  {
   "cell_type": "code",
   "execution_count": 3,
   "metadata": {},
   "outputs": [
    {
     "data": {
      "text/plain": [
       "Index(['Name', 'Sex', 'Event', 'Division', 'Date', 'MeetCountry', 'MeetName',\n",
       "       'Equipment', 'Age', 'BodyweightKg', 'Squat1Kg', 'Squat2Kg', 'Squat3Kg',\n",
       "       'Squat4Kg', 'Bench1Kg', 'Bench2Kg', 'Bench3Kg', 'Bench4Kg',\n",
       "       'Deadlift1Kg', 'Deadlift2Kg', 'Deadlift3Kg', 'Deadlift4Kg', 'TotalKg',\n",
       "       'Place', 'Wilks', 'McCulloch', 'Glossbrenner', 'IPFPoints'],\n",
       "      dtype='object')"
      ]
     },
     "execution_count": 3,
     "metadata": {},
     "output_type": "execute_result"
    }
   ],
   "source": [
    "df = pd.read_csv('results.csv', low_memory = False)\n",
    "df.columns"
   ]
  },
  {
   "cell_type": "code",
   "execution_count": 15,
   "metadata": {},
   "outputs": [],
   "source": [
    "df.fillna(r\"\\N\", inplace=True)"
   ]
  },
  {
   "cell_type": "markdown",
   "metadata": {},
   "source": [
    "# RESULTS"
   ]
  },
  {
   "cell_type": "code",
   "execution_count": 47,
   "metadata": {},
   "outputs": [],
   "source": [
    "res1 = pd.read_csv('openpowerlifting.csv',  usecols = ['Name', 'Sex', 'Event', 'Division',\n",
    "       'Date', 'MeetCountry', 'MeetName'], low_memory=False)"
   ]
  },
  {
   "cell_type": "code",
   "execution_count": 48,
   "metadata": {},
   "outputs": [],
   "source": [
    "res2 = pd.read_csv('openpowerlifting.csv', usecols =['Equipment', 'Age',\n",
    "       'BodyweightKg', 'Squat1Kg', 'Squat2Kg', 'Squat3Kg',\n",
    "       'Squat4Kg', 'Bench1Kg', 'Bench2Kg', 'Bench3Kg', 'Deadlift1Kg', 'Deadlift2Kg', 'Deadlift3Kg',\n",
    "       'Deadlift4Kg', 'TotalKg', 'Place', 'Wilks',\n",
    "       'McCulloch', 'Glossbrenner', 'IPFPoints'],low_memory = False)"
   ]
  },
  {
   "cell_type": "code",
   "execution_count": 49,
   "metadata": {},
   "outputs": [
    {
     "data": {
      "text/plain": [
       "0"
      ]
     },
     "execution_count": 49,
     "metadata": {},
     "output_type": "execute_result"
    }
   ],
   "source": [
    "res1.drop_duplicates(inplace=True)\n",
    "df_res = pd.merge(res1, res2, left_index=True, right_index=True)\n",
    "sum(df_res.duplicated())"
   ]
  },
  {
   "cell_type": "code",
   "execution_count": 50,
   "metadata": {},
   "outputs": [],
   "source": [
    "df_res['Date'] = [pd.to_datetime(x).date() for x in df_res['Date']] \n",
    "df_res.to_csv('results.csv', index=False)"
   ]
  },
  {
   "cell_type": "markdown",
   "metadata": {},
   "source": [
    "# MEET"
   ]
  },
  {
   "cell_type": "code",
   "execution_count": 51,
   "metadata": {},
   "outputs": [
    {
     "name": "stdout",
     "output_type": "stream",
     "text": [
      "1423354\n",
      "21159\n"
     ]
    }
   ],
   "source": [
    "meet = pd.read_csv('openpowerlifting.csv',  usecols = ['Date', 'MeetCountry', 'MeetName'], low_memory=False)\n",
    "print(len(meet))\n",
    "print(len(meet.drop_duplicates()))"
   ]
  },
  {
   "cell_type": "code",
   "execution_count": 52,
   "metadata": {},
   "outputs": [
    {
     "name": "stdout",
     "output_type": "stream",
     "text": [
      "0\n"
     ]
    }
   ],
   "source": [
    "meet.drop_duplicates(inplace=True)\n",
    "print(sum(meet.duplicated()))\n",
    "meet['Date'] = [pd.to_datetime(x).date() for x in meet['Date']] \n",
    "meet.to_csv('meet.csv', index=False)"
   ]
  },
  {
   "cell_type": "markdown",
   "metadata": {},
   "source": [
    "# ATHLETE"
   ]
  },
  {
   "cell_type": "code",
   "execution_count": 53,
   "metadata": {},
   "outputs": [
    {
     "name": "stdout",
     "output_type": "stream",
     "text": [
      "1423354\n",
      "413981\n"
     ]
    }
   ],
   "source": [
    "athlete = pd.read_csv('openpowerlifting.csv',  usecols = ['Name', 'Sex'], low_memory=False)\n",
    "print(len(athlete))\n",
    "print(len(athlete.drop_duplicates()))"
   ]
  },
  {
   "cell_type": "code",
   "execution_count": 54,
   "metadata": {},
   "outputs": [],
   "source": [
    "athlete.drop_duplicates(inplace=True)\n",
    "sum(athlete.duplicated())\n",
    "athlete.to_csv('athlete.csv', index=False)"
   ]
  },
  {
   "cell_type": "markdown",
   "metadata": {},
   "source": [
    "# AGE CLASSES"
   ]
  },
  {
   "cell_type": "code",
   "execution_count": 3,
   "metadata": {},
   "outputs": [],
   "source": [
    "age = pd.read_csv('/home/arturo/Desktop/DM/DM_HW1/openpowerlifting.csv', usecols = ['Age', 'AgeClass'], low_memory = False)"
   ]
  },
  {
   "cell_type": "code",
   "execution_count": 15,
   "metadata": {},
   "outputs": [],
   "source": [
    "age.drop(age[age['Age'] < 5].index, inplace=True)\n",
    "age.dropna(inplace=True)"
   ]
  },
  {
   "cell_type": "code",
   "execution_count": 28,
   "metadata": {},
   "outputs": [
    {
     "name": "stdout",
     "output_type": "stream",
     "text": [
      "0\n"
     ]
    }
   ],
   "source": [
    "age.drop_duplicates(inplace=True)\n",
    "print(sum(age.duplicated()))\n",
    "age.to_csv('ageclass.csv', index=False)"
   ]
  }
 ],
 "metadata": {
  "interpreter": {
   "hash": "daa0e894f241035dddf902a7101d33ebb499698abe93e240bcbb775e998eb5f8"
  },
  "kernelspec": {
   "display_name": "Python 3.8.8 ('base')",
   "language": "python",
   "name": "python3"
  },
  "language_info": {
   "codemirror_mode": {
    "name": "ipython",
    "version": 3
   },
   "file_extension": ".py",
   "mimetype": "text/x-python",
   "name": "python",
   "nbconvert_exporter": "python",
   "pygments_lexer": "ipython3",
   "version": "3.8.8"
  },
  "orig_nbformat": 4
 },
 "nbformat": 4,
 "nbformat_minor": 2
}
