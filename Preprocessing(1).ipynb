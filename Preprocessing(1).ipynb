{
 "cells": [
  {
   "cell_type": "code",
   "execution_count": 1,
   "metadata": {},
   "outputs": [],
   "source": [
    "import pandas as pd\n",
    "import numpy as np\n",
    "from datetime import datetime\n",
    "from tqdm import tqdm"
   ]
  },
  {
   "cell_type": "code",
   "execution_count": 14,
   "metadata": {},
   "outputs": [],
   "source": [
    "df = pd.read_csv(r'/home/arturo/Desktop/DM/HW2/csv/results.csv', low_memory = False)\n",
    "df.fillna('NA', inplace=True)"
   ]
  },
  {
   "cell_type": "code",
   "execution_count": 30,
   "metadata": {},
   "outputs": [],
   "source": [
    "df['Bench1Kg'].replace([r'\\N'], 0, inplace=True)\n",
    "df['Bench2Kg'].replace([r'\\N'], 0, inplace=True)\n",
    "df['Bench3Kg'].replace([r'\\N'], 0, inplace=True)\n",
    "df['Bench4Kg'].replace([r'\\N'], 0, inplace=True)\n",
    "\n",
    "df['Deadlift1Kg'].replace([r'\\N'], 0, inplace=True)\n",
    "df['Deadlift2Kg'].replace([r'\\N'], 0, inplace=True)\n",
    "df['Deadlift3Kg'].replace([r'\\N'], 0, inplace=True)\n",
    "df['Deadlift4Kg'].replace([r'\\N'], 0, inplace=True)\n",
    "\n",
    "df['TotalKg'].replace([r'\\N'], 0, inplace=True)\n",
    "df['Wilks'].replace([r'\\N'], 0, inplace=True)\n",
    "df['McCulloch'].replace([r'\\N'], 0, inplace=True)\n",
    "df['Glossbrenner'].replace([r'\\N'], 0, inplace=True)\n",
    "df['IPFPoints'].replace([r'\\N'], 0, inplace=True)"
   ]
  },
  {
   "cell_type": "code",
   "execution_count": 37,
   "metadata": {},
   "outputs": [],
   "source": [
    "df['Bench1Kg'] = pd.to_numeric(df['Bench1Kg'])\n",
    "df['Bench2Kg'] = pd.to_numeric(df['Bench2Kg'])\n",
    "df['Bench3Kg'] = pd.to_numeric(df['Bench3Kg'])\n",
    "df['Bench4Kg'] = pd.to_numeric(df['Bench4Kg'])"
   ]
  },
  {
   "cell_type": "code",
   "execution_count": 39,
   "metadata": {},
   "outputs": [],
   "source": [
    "df['Squat1Kg'] = pd.to_numeric(df['Squat1Kg'])\n",
    "df['Squat2Kg'] = pd.to_numeric(df['Squat2Kg'])\n",
    "df['Squat3Kg'] = pd.to_numeric(df['Squat3Kg'])\n",
    "df['Squat4Kg'] = pd.to_numeric(df['Squat4Kg'])"
   ]
  },
  {
   "cell_type": "code",
   "execution_count": 40,
   "metadata": {},
   "outputs": [],
   "source": [
    "df['Deadlift1Kg'] = pd.to_numeric(df['Deadlift1Kg'])\n",
    "df['Deadlift2Kg'] = pd.to_numeric(df['Deadlift2Kg'])\n",
    "df['Deadlift3Kg'] = pd.to_numeric(df['Deadlift3Kg'])\n",
    "df['Deadlift4Kg'] = pd.to_numeric(df['Deadlift4Kg'])"
   ]
  },
  {
   "cell_type": "code",
   "execution_count": 41,
   "metadata": {},
   "outputs": [],
   "source": [
    "df['TotalKg'] = pd.to_numeric(df['TotalKg'])\n",
    "df['Wilks'] = pd.to_numeric(df['Wilks'])\n",
    "df['McCulloch'] = pd.to_numeric(df['McCulloch'])\n",
    "df['Glossbrenner'] = pd.to_numeric(df['Glossbrenner'])\n",
    "df['IPFPoints'] = pd.to_numeric(df['IPFPoints'])"
   ]
  },
  {
   "cell_type": "code",
   "execution_count": 42,
   "metadata": {},
   "outputs": [],
   "source": [
    "df['Bench1Kg'].mask(df['Bench1Kg'] < 0, 0, inplace=True)\n",
    "df['Bench2Kg'].mask(df['Bench2Kg'] < 0, 0, inplace=True)\n",
    "df['Bench3Kg'].mask(df['Bench3Kg'] < 0, 0, inplace=True)\n",
    "df['Bench4Kg'].mask(df['Bench4Kg'] < 0, 0, inplace=True)\n",
    "\n",
    "df['Deadlift1Kg'].mask(df['Deadlift1Kg'] < 0, 0, inplace=True)\n",
    "df['Deadlift2Kg'].mask(df['Deadlift2Kg'] < 0, 0, inplace=True)\n",
    "df['Deadlift3Kg'].mask(df['Deadlift3Kg'] < 0, 0, inplace=True)\n",
    "df['Deadlift4Kg'].mask(df['Deadlift4Kg'] < 0, 0, inplace=True)\n",
    "\n",
    "df['Squat1Kg'].mask(df['Squat1Kg'] < 0, 0, inplace=True)\n",
    "df['Squat2Kg'].mask(df['Squat2Kg'] < 0, 0, inplace=True)\n",
    "df['Squat3Kg'].mask(df['Squat3Kg'] < 0, 0, inplace=True)\n",
    "df['Squat4Kg'].mask(df['Squat4Kg'] < 0, 0, inplace=True)\n",
    "\n",
    "df['TotalKg'].mask(df['TotalKg'] < 0, 0, inplace=True)\n",
    "df['Wilks'].mask(df['Wilks'] < 0, 0, inplace=True)\n",
    "df['McCulloch'].mask(df['McCulloch'] < 0, 0, inplace=True)\n",
    "df['Glossbrenner'].mask(df['Glossbrenner'] < 0, 0, inplace=True)\n",
    "df['IPFPoints'].mask(df['IPFPoints'] < 0, 0, inplace=True)"
   ]
  },
  {
   "cell_type": "code",
   "execution_count": 29,
   "metadata": {},
   "outputs": [],
   "source": [
    "df['Date'] = [pd.to_datetime(x).date() for x in df['Date']] \n",
    "df.to_csv(r'/home/arturo/Desktop/DM/DM-HW2/csv/results.csv', index=False)"
   ]
  },
  {
   "cell_type": "markdown",
   "metadata": {},
   "source": [
    "# MAPPING ID"
   ]
  },
  {
   "cell_type": "code",
   "execution_count": 17,
   "metadata": {},
   "outputs": [],
   "source": [
    "mapping = df.iloc[:, 0:8].copy()\n",
    "mapping.to_csv(r'/home/arturo/Desktop/DM/DM-HW2/csv/mapping.csv', index=False)\n",
    "del(mapping)"
   ]
  },
  {
   "cell_type": "markdown",
   "metadata": {},
   "source": [
    "# MEET"
   ]
  },
  {
   "cell_type": "code",
   "execution_count": 44,
   "metadata": {},
   "outputs": [],
   "source": [
    "meet = df[['MeetCountry', 'MeetName', 'Date']].copy()\n",
    "meet.drop_duplicates(inplace=True)\n",
    "meet.insert(0, '_id', [''.join(''.join(list(meet.iloc[i, :].values)).split()).replace('-', '') for i in tqdm(range(0, len(meet)))])\n",
    "meet.to_csv('/home/arturo/Desktop/DM/DM-HW2/csv/meet.csv', index=False)\n",
    "del(meet)"
   ]
  },
  {
   "cell_type": "markdown",
   "metadata": {},
   "source": [
    "# ATHLETE"
   ]
  },
  {
   "cell_type": "code",
   "execution_count": null,
   "metadata": {},
   "outputs": [],
   "source": [
    "athlete = df[['Name', 'Sex']].copy()\n",
    "athlete.drop_duplicates(inplace=True)\n",
    "athlete.insert(0, '_id', [''.join(''.join(list(athlete.iloc[i, :].values)).split()).replace('-', '') for i in tqdm(range(0, len(athlete)))])\n",
    "athlete.to_csv('/home/arturo/Desktop/DM/DM-HW2/csv/athlete.csv', index=False)\n",
    "del(athlete)"
   ]
  },
  {
   "cell_type": "markdown",
   "metadata": {},
   "source": [
    "# BENCH"
   ]
  },
  {
   "cell_type": "code",
   "execution_count": 40,
   "metadata": {},
   "outputs": [],
   "source": [
    "bench = df[['_id', 'Event', 'Bench1Kg', 'Bench2Kg', 'Bench3Kg', 'Bench4Kg']].copy()\n",
    "bench.drop(bench[(bench['Event'] != 'SBD') & (bench['Event'] != 'B') & (bench['Event'] != 'BD') & (bench['Event'] != 'SB')].index, inplace=True)\n",
    "bench.drop('Event', axis=1, inplace=True)\n",
    "bench.to_csv('/home/arturo/Desktop/DM/DM-HW2/csv/bench.csv', index=False)\n",
    "del(bench)"
   ]
  },
  {
   "cell_type": "markdown",
   "metadata": {},
   "source": [
    "# SQUAT"
   ]
  },
  {
   "cell_type": "code",
   "execution_count": 41,
   "metadata": {},
   "outputs": [],
   "source": [
    "squat = df[['_id', 'Event', 'Squat1Kg', 'Squat2Kg', 'Squat3Kg', 'Squat4Kg']].copy()\n",
    "squat.drop(squat[(squat['Event'] != 'SBD') & (squat['Event'] != 'S') & (squat['Event'] != 'SD') & (squat['Event'] != 'SB')].index, inplace=True)\n",
    "squat.drop('Event', axis=1, inplace=True)\n",
    "squat.to_csv('/home/arturo/Desktop/DM/DM-HW2/csv/squat.csv', index=False)\n",
    "del(squat)"
   ]
  },
  {
   "cell_type": "markdown",
   "metadata": {},
   "source": [
    "# DEADLIFT"
   ]
  },
  {
   "cell_type": "code",
   "execution_count": 42,
   "metadata": {},
   "outputs": [],
   "source": [
    "deadlift = df[['_id', 'Event', 'Deadlift1Kg', 'Deadlift2Kg', 'Deadlift3Kg', 'Deadlift4Kg', 'Equipment']].copy()\n",
    "deadlift.drop(deadlift[(deadlift['Event'] != 'SBD') & (deadlift['Event'] != 'D') & (deadlift['Event'] != 'SD') & (deadlift['Event'] != 'BD')].index, inplace=True)\n",
    "deadlift.drop('Event', axis=1, inplace=True)\n",
    "deadlift.to_csv('/home/arturo/Desktop/DM/DM-HW2/csv/deadlift.csv', index=False)\n",
    "del(deadlift)"
   ]
  },
  {
   "cell_type": "markdown",
   "metadata": {},
   "source": [
    "# SCORES"
   ]
  },
  {
   "cell_type": "code",
   "execution_count": null,
   "metadata": {},
   "outputs": [],
   "source": [
    "scores = df[['_id', 'Place', 'Wilks', 'McCulloch', 'Glossbrenner', 'IPFPoints']].copy()\n",
    "scores.drop(scores[scores['Place'] == 'DQ'].index, inplace=True)\n",
    "scores.drop('Place', axis=1, inplace=True)\n",
    "scores.to_csv('/home/arturo/Desktop/DM/DM-HW2/csv/scores.csv', index=False)\n",
    "del(scores)"
   ]
  },
  {
   "cell_type": "markdown",
   "metadata": {},
   "source": [
    "# PLACEMENT"
   ]
  },
  {
   "cell_type": "code",
   "execution_count": null,
   "metadata": {},
   "outputs": [],
   "source": [
    "placement = df[['_id', 'TotalKg', 'Place', 'Age', 'BodyweightKg', 'Equipment']].copy()\n",
    "placement.to_csv('/home/arturo/Desktop/DM/DM-HW2/csv/placement.csv', index=False)\n",
    "del(placement)"
   ]
  }
 ],
 "metadata": {
  "interpreter": {
   "hash": "daa0e894f241035dddf902a7101d33ebb499698abe93e240bcbb775e998eb5f8"
  },
  "kernelspec": {
   "display_name": "Python 3.8.8 ('base')",
   "language": "python",
   "name": "python3"
  },
  "language_info": {
   "codemirror_mode": {
    "name": "ipython",
    "version": 3
   },
   "file_extension": ".py",
   "mimetype": "text/x-python",
   "name": "python",
   "nbconvert_exporter": "python",
   "pygments_lexer": "ipython3",
   "version": "3.8.8"
  },
  "orig_nbformat": 4
 },
 "nbformat": 4,
 "nbformat_minor": 2
}
